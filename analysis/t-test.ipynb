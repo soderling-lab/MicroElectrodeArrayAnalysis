{
 "cells": [
  {
   "cell_type": "code",
   "execution_count": 1,
   "metadata": {
    "is_executing": true
   },
   "outputs": [
    {
     "name": "stdout",
     "output_type": "stream",
     "text": [
      "Requirement already satisfied: xlsxwriter in /home/poojaparameswaran/anaconda3/envs/dataenv/lib/python3.11/site-packages (3.1.2)\n"
     ]
    }
   ],
   "source": [
    "import pandas as pd\n",
    "import numpy as np\n",
    "from tqdm import tqdm\n",
    "import os\n",
    "from scipy import stats\n",
    "import warnings\n",
    "import pandas as pd\n",
    "from sklearn.experimental import enable_iterative_imputer\n",
    "from sklearn.impute import IterativeImputer\n",
    "import matplotlib.pyplot as plt\n",
    "import seaborn as sns\n",
    "import re\n",
    "import glob\n",
    "!pip install xlsxwriter\n",
    "pd.options.mode.chained_assignment = None  # default='warn'"
   ]
  },
  {
   "cell_type": "code",
   "execution_count": 2,
   "metadata": {},
   "outputs": [],
   "source": [
    "def custom_sort(item):\n",
    "    if item.endswith('basal'):\n",
    "        return 0\n",
    "    else:\n",
    "        return int(item.split('uM')[0].split('_')[-1])"
   ]
  },
  {
   "cell_type": "code",
   "execution_count": 6,
   "metadata": {},
   "outputs": [
    {
     "name": "stdout",
     "output_type": "stream",
     "text": [
      "Balances: {'basal': 'basal', 'dose1': '5uMCNO', 'dose2': '10uMCNO', 'dose3': '15uMCNO', 'dose4': '20uMCNO'}\n"
     ]
    },
    {
     "data": {
      "text/plain": [
       "{'Div19_5uMCNO': '/home/poojaparameswaran/Documents/SoderlingLab/MultipleElectrodeAnalysisANOVA/example_data/Div19_CNO/Div19_1minute/Div19_5uMCNO',\n",
       " 'Div19_10uMCNO': '/home/poojaparameswaran/Documents/SoderlingLab/MultipleElectrodeAnalysisANOVA/example_data/Div19_CNO/Div19_1minute/Div19_10uMCNO',\n",
       " 'Div19_basal': '/home/poojaparameswaran/Documents/SoderlingLab/MultipleElectrodeAnalysisANOVA/example_data/Div19_CNO/Div19_1minute/Div19_basal',\n",
       " 'Div19_20uMCNO': '/home/poojaparameswaran/Documents/SoderlingLab/MultipleElectrodeAnalysisANOVA/example_data/Div19_CNO/Div19_1minute/Div19_20uMCNO',\n",
       " 'Div19_15uMCNO': '/home/poojaparameswaran/Documents/SoderlingLab/MultipleElectrodeAnalysisANOVA/example_data/Div19_CNO/Div19_1minute/Div19_15uMCNO'}"
      ]
     },
     "execution_count": 6,
     "metadata": {},
     "output_type": "execute_result"
    }
   ],
   "source": [
    "currdir= os.getcwd()\n",
    "parent = os.path.dirname(currdir)\n",
    "gparent=os.path.dirname(parent)\n",
    "lines_to_skip = 10 # adjust\n",
    "\n",
    "# count the number of header lines\n",
    "header_lines = 3 # adjust\n",
    "EXPERIMENT_TIME = \"1_MIN\"\n",
    "plate_type = 'DIV19'\n",
    "\n",
    "PERTURBATION = \"CNO\"\n",
    "firstTableHeading = \"Number of Spikes\"\n",
    "\n",
    "FOLDER_PATH = f\"{parent}/example_data/Div19_CNO/Div19_1minute\" #\n",
    "folder_dict = {}\n",
    "balances= {\"basal\": \"\",\n",
    "        \"dose1\": \"\",\n",
    "        \"dose2\": \"\",\n",
    "        \"dose3\": \"\",\n",
    "        \"dose4\": \"\"\n",
    "        }\n",
    "## WALK Through folder of interest\n",
    "for dirpath, dirnames, filenames in os.walk(FOLDER_PATH):\n",
    "    if dirpath != FOLDER_PATH:\n",
    "        folder_dict[dirpath.split(\"/\")[-1]] = dirpath\n",
    "    elif not dirnames:\n",
    "        folder_dict['basal'] = dirpath\n",
    "\n",
    "## get doses names in increasing order \n",
    "dose_names = [name for name in folder_dict.keys() if 'basal' not in name]\n",
    "dose_names.sort(key=custom_sort)\n",
    "\n",
    "# Initialize doses dictionaryd\n",
    "balances = {\"basal\": \"basal\"}\n",
    "\n",
    "## map sorted doses\n",
    "for i, dose_name in enumerate(dose_names, start=1):\n",
    "    balances[f\"dose{i}\"] = dose_name.split(\"_\")[-1]\n",
    "\n",
    "# Output the updated doses dictionary\n",
    "print(\"Balances:\", balances)\n",
    "folder_dict"
   ]
  },
  {
   "cell_type": "code",
   "execution_count": 7,
   "metadata": {},
   "outputs": [
    {
     "name": "stdout",
     "output_type": "stream",
     "text": [
      "Div19_5uMCNO dict_keys(['plate_1', 'plate_3'])\n",
      "Div19_10uMCNO dict_keys(['plate_1', 'plate_3'])\n",
      "Div19_basal dict_keys(['plate_1', 'plate_3'])\n",
      "Div19_20uMCNO dict_keys(['plate_3', 'plate_1'])\n",
      "Div19_15uMCNO dict_keys(['plate_3', 'plate_1'])\n"
     ]
    }
   ],
   "source": [
    "def read_csvs_to_dict(folder, lines_to_skip=10):\n",
    "    files = glob.glob(os.path.join(folder, \"*.csv\"))\n",
    "    data_dict = {}\n",
    "    for file in files:\n",
    "        # Extracting the plate number from the filename\n",
    "        plate_num = re.search(r'plate\\s?(\\d+)', file, re.IGNORECASE)\n",
    "        if plate_num:\n",
    "            plate_key = f\"plate_{plate_num.group(1)}\"\n",
    "            df = pd.read_csv(file, skiprows = lines_to_skip)\n",
    "            df = df.drop(columns=['Unnamed: 9'])\n",
    "            data_dict[plate_key] = df\n",
    "    return data_dict\n",
    "all_files_dict = {}\n",
    "\n",
    "for dose, folder in folder_dict.items():\n",
    "    all_files_dict[dose] = read_csvs_to_dict(folder)\n",
    "    \n",
    "for dose, files_dict in all_files_dict.items():\n",
    "    print(dose, files_dict.keys())"
   ]
  },
  {
   "cell_type": "code",
   "execution_count": 8,
   "metadata": {},
   "outputs": [
    {
     "data": {
      "text/plain": [
       "{'basal': 'basal',\n",
       " 'dose1': '5uMCNO',\n",
       " 'dose2': '10uMCNO',\n",
       " 'dose3': '15uMCNO',\n",
       " 'dose4': '20uMCNO'}"
      ]
     },
     "execution_count": 8,
     "metadata": {},
     "output_type": "execute_result"
    }
   ],
   "source": [
    "balances"
   ]
  },
  {
   "cell_type": "code",
   "execution_count": 9,
   "metadata": {},
   "outputs": [
    {
     "data": {
      "text/plain": [
       "dict_keys(['Div19_5uMCNO', 'Div19_10uMCNO', 'Div19_basal', 'Div19_20uMCNO', 'Div19_15uMCNO'])"
      ]
     },
     "execution_count": 9,
     "metadata": {},
     "output_type": "execute_result"
    }
   ],
   "source": [
    "def concat_plates(plates_dict, firstHeading):\n",
    "    experiment = {}\n",
    "    testparams_concat = {}\n",
    "    for plate, df in plates_dict.items():\n",
    "        maxrows = df.shape[0]\n",
    "        vals_between_tables = 16\n",
    "        titles = [heading_ind for heading_ind in range(14, maxrows+16, 16)]\n",
    "        titles.insert(0,0)\n",
    "        # # Empty dictionary to store dataframes\n",
    "        # Loop through start indices\n",
    "        for ind in range(len(titles) -1):\n",
    "            if ind == 0:\n",
    "                ## Handle mean firing rate\n",
    "                key = firstHeading\n",
    "                table = df.iloc[titles[ind] : titles[ind +1], :]\n",
    "                # table = rename_row_names(table)\n",
    "            elif ind != 0:\n",
    "                table = df.iloc[titles[ind] : titles[ind +1], :]\n",
    "                key = table.iloc[0][0] # just get name\n",
    "                table = df.iloc[titles[ind] +2: titles[ind +1], :]\n",
    "\n",
    "            table.set_index('Unnamed: 0', inplace=True)\n",
    "            if key not in experiment:\n",
    "                experiment[key] = []\n",
    "            experiment[key].append(table)\n",
    "    \n",
    "    for testparam, df_list in experiment.items():\n",
    "        concated_table = pd.concat(df_list, ignore_index=False)\n",
    "        testparams_concat[testparam] = concated_table\n",
    "    \n",
    "    testparams_concat = {key.strip(): value for key, value in testparams_concat.items()}\n",
    "    return testparams_concat\n",
    "doses = {}\n",
    "for dose, plates in all_files_dict.items():\n",
    "    doses[dose] = concat_plates(plates, firstTableHeading)\n",
    "\n",
    "doses.keys()"
   ]
  },
  {
   "cell_type": "code",
   "execution_count": 10,
   "metadata": {},
   "outputs": [],
   "source": [
    "def remove_mean_SEM(test_dict, chemical_type):\n",
    "    for key, value in test_dict.items():\n",
    "        to_drop = [index for index in ['B Mean', 'B SEM'] if index in value.index]\n",
    "        if to_drop:\n",
    "            test_dict[key] = value.drop(index=to_drop)\n",
    "        test_dict[key]['Chemical_Type']=chemical_type\n",
    "    return test_dict\n",
    "for dose, parameter_dict in doses.items():\n",
    "    doses[dose] = remove_mean_SEM(parameter_dict, dose)\n"
   ]
  },
  {
   "cell_type": "code",
   "execution_count": 11,
   "metadata": {},
   "outputs": [],
   "source": [
    "def rename_row_names(experiment_df):\n",
    "    # 'Unnamed: 0' is a column\n",
    "    experiment_df = experiment_df.reset_index()\n",
    "    experiment_df = experiment_df.drop(columns=\"Unnamed: 0\", errors=\"ignore\")\n",
    "    experiment_df.index = [\"Replicate{}\".format(i+1) for i in range(len(experiment_df))]\n",
    "    return experiment_df\n",
    "for dose, test_dict in doses.items():\n",
    "    for test_name, df in test_dict.items():\n",
    "        test_dict[test_name] = rename_row_names(df)\n",
    "    doses[dose] = test_dict"
   ]
  },
  {
   "cell_type": "code",
   "execution_count": 13,
   "metadata": {},
   "outputs": [
    {
     "data": {
      "text/plain": [
       "dict_keys(['Div19_5uMCNO', 'Div19_10uMCNO', 'Div19_basal', 'Div19_20uMCNO', 'Div19_15uMCNO'])"
      ]
     },
     "execution_count": 13,
     "metadata": {},
     "output_type": "execute_result"
    }
   ],
   "source": [
    "doses.keys()"
   ]
  },
  {
   "cell_type": "code",
   "execution_count": 24,
   "metadata": {},
   "outputs": [
    {
     "data": {
      "text/plain": [
       "(dict_keys(['basal']), dict_values(['basal']), dict_keys(['basal']))"
      ]
     },
     "execution_count": 24,
     "metadata": {},
     "output_type": "execute_result"
    }
   ],
   "source": [
    "balances.keys(), balances.values(), doses.keys()"
   ]
  },
  {
   "cell_type": "code",
   "execution_count": 28,
   "metadata": {},
   "outputs": [
    {
     "data": {
      "text/plain": [
       "dict_keys(['basal'])"
      ]
     },
     "execution_count": 28,
     "metadata": {},
     "output_type": "execute_result"
    }
   ],
   "source": [
    "dmapped = {}\n",
    "for bkey, bval in balances.items():\n",
    "    for dkey, dval in doses.items():\n",
    "        if bval == dkey.split(\"_\")[-1]:\n",
    "            dmapped[bkey] = dval\n",
    "\n",
    "list(map(lambda x: dmapped[x]['Mean Firing Rate (Hz)']['Chemical_Type'].unique(), dmapped.keys()))"
   ]
  },
  {
   "cell_type": "code",
   "execution_count": 52,
   "metadata": {},
   "outputs": [
    {
     "name": "stdout",
     "output_type": "stream",
     "text": [
      "basal\n"
     ]
    }
   ],
   "source": [
    "for dose, tdict in dmapped.items():\n",
    "    print(dose)"
   ]
  },
  {
   "cell_type": "code",
   "execution_count": 58,
   "metadata": {},
   "outputs": [],
   "source": [
    "def impute_nans(testparam, table):\n",
    "    chem_types = table['Chemical_Type']\n",
    "    table = table.drop(columns=['Chemical_Type'])\n",
    "    original_index = table.index\n",
    "    imputer = IterativeImputer(max_iter=100, random_state=0)\n",
    "    imputed_data = imputer.fit_transform(table)\n",
    "\n",
    "    # Convert the imputed data back to a DataFrame\n",
    "    imputed_df = pd.DataFrame(imputed_data, columns=table.columns, index=original_index)\n",
    "    imputed_df['Chemical_Type'] = chem_types\n",
    "    return imputed_df\n",
    "dmappedI = {}\n",
    "for dose, tdict in dmapped.items():\n",
    "    dmappedI[dose] = {testname: impute_nans(testname, table) for testname, table in tdict.items() if not table.loc[:, table.columns != 'Chemical_Type'].isna().all().all()} \n"
   ]
  },
  {
   "cell_type": "code",
   "execution_count": 62,
   "metadata": {},
   "outputs": [
    {
     "data": {
      "text/plain": [
       "{'basal': {'Number of Spikes': {'GPR37L 1': [-1.0511819560667552,\n",
       "    0.29679045125776327],\n",
       "   'GPR37L 2': [-0.009828251652812611, 0.9921862729017878],\n",
       "   'LGI2 A12': [-1.6428708659073532, 0.10489459751882362],\n",
       "   'SLITRK5': [-0.9973079769873875, 0.32205013001558347],\n",
       "   'THSD7 1': [-1.9215409601286195, 0.05873550758373053],\n",
       "   'THSD7 2': [-1.511387947353418, 0.1351911449906407]},\n",
       "  'Number of Active Electrodes': {'GPR37L 1': [-1.436724056538273,\n",
       "    0.15525105352050858],\n",
       "   'GPR37L 2': [-1.278815323489144, 0.20518550714916528],\n",
       "   'LGI2 A12': [-1.524922552707138, 0.13178402598941988],\n",
       "   'SLITRK5': [-0.3355141438577303, 0.7382407716647257],\n",
       "   'THSD7 1': [-2.337946740671529, 0.02225342307384756],\n",
       "   'THSD7 2': [-1.832628501256459, 0.07111090013308265]},\n",
       "  'Weighted Mean Firing Rate (Hz)': {'GPR37L 1': [-1.1887129531146972,\n",
       "    0.238569731265254],\n",
       "   'GPR37L 2': [-0.05014845726202534, 0.9601469062878087],\n",
       "   'LGI2 A12': [-1.6808703852055, 0.09724536512098882],\n",
       "   'SLITRK5': [-1.1696450929450781, 0.2461110468605158],\n",
       "   'THSD7 1': [-1.47327230602318, 0.14516032797363804],\n",
       "   'THSD7 2': [-1.6853042317275355, 0.09638328888723191]},\n",
       "  'Number of Bursting Electrodes': {'GPR37L 1': [-0.046990026418404274,\n",
       "    0.9626549823251271],\n",
       "   'GPR37L 2': [-0.38257935501738605, 0.7031908781563911],\n",
       "   'LGI2 A12': [-0.4470092950802055, 0.6562483977761382],\n",
       "   'SLITRK5': [0.5932034388810405, 0.5549568573783739],\n",
       "   'THSD7 1': [-2.256722784490311, 0.027149545995069316],\n",
       "   'THSD7 2': [0.36830447291103335, 0.7137576910647321]},\n",
       "  'Burst Frequency - Avg (Hz)': {'GPR37L 1': [-0.5428791914473525,\n",
       "    0.5889374395020444],\n",
       "   'GPR37L 2': [0.18165987159140265, 0.8563746695794344],\n",
       "   'LGI2 A12': [-1.2948008381369662, 0.19964358759554438],\n",
       "   'SLITRK5': [-0.8451058127202797, 0.4009311180735502],\n",
       "   'THSD7 1': [-0.9896680521272115, 0.3257450613783217],\n",
       "   'THSD7 2': [-0.9334452982230883, 0.35379881322017015]},\n",
       "  'Burst Duration - Avg (s)': {'GPR37L 1': [-0.3144548294709784,\n",
       "    0.7541109560070807],\n",
       "   'GPR37L 2': [1.602947843940759, 0.11344931660510532],\n",
       "   'LGI2 A12': [-0.5539293966194114, 0.5813924199512969],\n",
       "   'SLITRK5': [-0.3810776850103485, 0.7042997621395081],\n",
       "   'THSD7 1': [-1.9338073951954111, 0.057180732900523924],\n",
       "   'THSD7 2': [-1.6696397584810447, 0.09945714233552516]},\n",
       "  'Normalized Duration IQR - Avg': {'GPR37L 1': [0.9626601109548498,\n",
       "    0.3390318844842851],\n",
       "   'GPR37L 2': [1.315237892921521, 0.192722060133604],\n",
       "   'LGI2 A12': [-1.1123858449754802, 0.2697779868574221],\n",
       "   'SLITRK5': [-1.8309850030100212, 0.07135879942277477],\n",
       "   'THSD7 1': [-0.5045741069541805, 0.6154427106746136],\n",
       "   'THSD7 2': [1.6262833371825451, 0.10838327099122436]},\n",
       "  'IBI Coefficient of Variation - Avg': {'GPR37L 1': [-0.2208404245921822,\n",
       "    0.8258595709590579],\n",
       "   'GPR37L 2': [1.7278687905596262, 0.0884213037424934],\n",
       "   'LGI2 A12': [2.8708251729389827, 0.0054114616995392896],\n",
       "   'SLITRK5': [-0.5092989072612307, 0.612144524480355],\n",
       "   'THSD7 1': [2.5124860384196923, 0.01429550988929995],\n",
       "   'THSD7 2': [3.105720377135916, 0.0027404318294445905]},\n",
       "  'Burst Percentage - Avg': {'GPR37L 1': [0.0635628150062585,\n",
       "    0.9494995030536599],\n",
       "   'GPR37L 2': [-0.8703081739925608, 0.387106787834117],\n",
       "   'LGI2 A12': [0.11558643103569965, 0.9083112613258797],\n",
       "   'SLITRK5': [-0.07211700239603103, 0.9427144558119688],\n",
       "   'THSD7 1': [-2.643732373912373, 0.01011252512316285],\n",
       "   'THSD7 2': [0.048100871320105903, 0.961772827964801]},\n",
       "  'Network Burst Frequency (Hz)': {'GPR37L 1': [-0.24834199470041748,\n",
       "    0.8045969279116162],\n",
       "   'GPR37L 2': [0.20920575772369923, 0.8348952501000769],\n",
       "   'LGI2 A12': [-1.1183560674787036, 0.26723827543595136],\n",
       "   'SLITRK5': [-0.200790492472939, 0.8414446664225608],\n",
       "   'THSD7 1': [0.46861055476957186, 0.640804092098239],\n",
       "   'THSD7 2': [-0.7066126859832437, 0.4821527068644076]},\n",
       "  'Network Burst Duration - Avg (sec)': {'GPR37L 1': [-0.9552885497855714,\n",
       "    0.34271927512882217],\n",
       "   'GPR37L 2': [-0.16025732375582583, 0.873139939182106],\n",
       "   'LGI2 A12': [-0.7728401650524087, 0.4422187937896549],\n",
       "   'SLITRK5': [-1.1060577434779826, 0.27248835230241114],\n",
       "   'THSD7 1': [-1.3145623725106128, 0.19294792646593975],\n",
       "   'THSD7 2': [-1.1776038035193404, 0.24294287909618822]},\n",
       "  'Network Burst Percentage': {'GPR37L 1': [0.22496932640373876,\n",
       "    0.8226585850249615],\n",
       "   'GPR37L 2': [-0.8927709669358626, 0.37503877733447577],\n",
       "   'LGI2 A12': [-1.9883063027386567, 0.05068919147086754],\n",
       "   'SLITRK5': [-2.0995479868764186, 0.03937530760019785],\n",
       "   'THSD7 1': [0.41451124280551754, 0.6797672773103187],\n",
       "   'THSD7 2': [-0.7463010498013466, 0.457984696214658]},\n",
       "  'Network IBI Coefficient of Variation': {'GPR37L 1': [1.6274259553933013,\n",
       "    0.1081399856972556],\n",
       "   'GPR37L 2': [2.5884298401960812, 0.011716753005191576],\n",
       "   'LGI2 A12': [3.9513819090362947, 0.00018323383072346342],\n",
       "   'SLITRK5': [0.7311398157359426, 0.4671341689429105],\n",
       "   'THSD7 1': [3.732346155812246, 0.0003825728067174452],\n",
       "   'THSD7 2': [3.653241539019321, 0.0004962109627978778]},\n",
       "  'Network Normalized Duration IQR': {'GPR37L 1': [1.8864197346445806,\n",
       "    0.06338672880430023],\n",
       "   'GPR37L 2': [3.569907521932562, 0.0006503705359914922],\n",
       "   'LGI2 A12': [1.6285346985917062, 0.1079043353255262],\n",
       "   'SLITRK5': [0.4619597911423887, 0.645542709936427],\n",
       "   'THSD7 1': [0.680500958772087, 0.4984320247488099],\n",
       "   'THSD7 2': [1.3571306617240821, 0.17909964150749283]},\n",
       "  'Area Under Normalized Cross-Correlation': {'GPR37L 1': [-0.8002624800826907,\n",
       "    0.4262663676694428],\n",
       "   'GPR37L 2': [-1.6079114653394155, 0.11235607039316613],\n",
       "   'LGI2 A12': [-0.3581113046068453, 0.7213376817612844],\n",
       "   'SLITRK5': [-0.5586298055501564, 0.5781970647833209],\n",
       "   'THSD7 1': [-2.787226116025552, 0.006838020866455042],\n",
       "   'THSD7 2': [-1.033833329568929, 0.3047726429259672]},\n",
       "  'Resistance - Avg (kOhms)': {'GPR37L 1': [-1.1796950910862438,\n",
       "    0.24211526887412463],\n",
       "   'GPR37L 2': [-0.5003991882996488, 0.6183636700749003],\n",
       "   'LGI2 A12': [0.8780053743377194, 0.38294451945071484],\n",
       "   'SLITRK5': [-3.68045681971068, 0.0004539003756398324],\n",
       "   'THSD7 1': [-1.7269958597337003, 0.08857897865690784],\n",
       "   'THSD7 2': [-5.181150512218703, 2.031172795773034e-06]},\n",
       "  'Number of Covered Electrodes': {'GPR37L 1': [0.5829286622243892,\n",
       "    0.5618145931120226],\n",
       "   'GPR37L 2': [-0.47215456823558427, 0.6382850884928069],\n",
       "   'LGI2 A12': [0.5829286622243892, 0.5618145931120226],\n",
       "   'SLITRK5': [-0.8451542547285136, 0.4009042586673903],\n",
       "   'THSD7 1': [0.5829286622243893, 0.5618145931120226],\n",
       "   'THSD7 2': [-3.1083712505082004, 0.0027189564193623077]}}}"
      ]
     },
     "execution_count": 62,
     "metadata": {},
     "output_type": "execute_result"
    }
   ],
   "source": [
    "def perform_t_test(condition_dict):\n",
    "    tests = {}\n",
    "    for testname in condition_dict.keys():\n",
    "        tests[testname] = {}\n",
    "        table = condition_dict[testname].copy()  # Create a deep copy\n",
    "        rows_to_drop = [row for row in ['B Mean', 'B SEM', 'B Std'] if any(row.lower() == existing_row.lower() for existing_row in table.index)]\n",
    "        if rows_to_drop:\n",
    "            table.drop(rows_to_drop, axis=0, inplace=True)\n",
    "        test_variables = [col for col in table.columns if \"unt\" not in col.lower() and \"chemical\" not in col.lower()]\n",
    "        control_name = \"unt2\"\n",
    "        for testitem in test_variables:\n",
    "            exp_group = list(table[testitem].astype(float))\n",
    "            control_group = list(table[control_name].astype(float))\n",
    "            with warnings.catch_warnings(record=True) as w:\n",
    "                warnings.simplefilter(\"always\")  # Cause all warnings to always be triggered\n",
    "                t_stat, pval = stats.ttest_ind(exp_group, control_group)\n",
    "                if len(w) > 0:\n",
    "                    tests[testname][testitem] = [t_stat, pval, 'Warning: ' + str(w[-1].message)]\n",
    "                else:\n",
    "                    tests[testname][testitem] = [t_stat, pval]\n",
    "    return tests\n",
    "\n",
    "dmapped_ttest = {}\n",
    "for key, testdict in dmappedI.items():\n",
    "    dmapped_ttest[key] = perform_t_test(testdict)\n",
    "dmapped_ttest"
   ]
  },
  {
   "cell_type": "code",
   "execution_count": 77,
   "metadata": {},
   "outputs": [
    {
     "data": {
      "text/plain": [
       "{'Number of Spikes': {'GPR37L 1': [-1.0511819560667552, 0.29679045125776327],\n",
       "  'GPR37L 2': [-0.009828251652812611, 0.9921862729017878],\n",
       "  'LGI2 A12': [-1.6428708659073532, 0.10489459751882362],\n",
       "  'SLITRK5': [-0.9973079769873875, 0.32205013001558347],\n",
       "  'THSD7 1': [-1.9215409601286195, 0.05873550758373053],\n",
       "  'THSD7 2': [-1.511387947353418, 0.1351911449906407]},\n",
       " 'Number of Active Electrodes': {'GPR37L 1': [-1.436724056538273,\n",
       "   0.15525105352050858],\n",
       "  'GPR37L 2': [-1.278815323489144, 0.20518550714916528],\n",
       "  'LGI2 A12': [-1.524922552707138, 0.13178402598941988],\n",
       "  'SLITRK5': [-0.3355141438577303, 0.7382407716647257],\n",
       "  'THSD7 1': [-2.337946740671529, 0.02225342307384756],\n",
       "  'THSD7 2': [-1.832628501256459, 0.07111090013308265]},\n",
       " 'Weighted Mean Firing Rate (Hz)': {'GPR37L 1': [-1.1887129531146972,\n",
       "   0.238569731265254],\n",
       "  'GPR37L 2': [-0.05014845726202534, 0.9601469062878087],\n",
       "  'LGI2 A12': [-1.6808703852055, 0.09724536512098882],\n",
       "  'SLITRK5': [-1.1696450929450781, 0.2461110468605158],\n",
       "  'THSD7 1': [-1.47327230602318, 0.14516032797363804],\n",
       "  'THSD7 2': [-1.6853042317275355, 0.09638328888723191]},\n",
       " 'Number of Bursting Electrodes': {'GPR37L 1': [-0.046990026418404274,\n",
       "   0.9626549823251271],\n",
       "  'GPR37L 2': [-0.38257935501738605, 0.7031908781563911],\n",
       "  'LGI2 A12': [-0.4470092950802055, 0.6562483977761382],\n",
       "  'SLITRK5': [0.5932034388810405, 0.5549568573783739],\n",
       "  'THSD7 1': [-2.256722784490311, 0.027149545995069316],\n",
       "  'THSD7 2': [0.36830447291103335, 0.7137576910647321]},\n",
       " 'Burst Frequency - Avg (Hz)': {'GPR37L 1': [-0.5428791914473525,\n",
       "   0.5889374395020444],\n",
       "  'GPR37L 2': [0.18165987159140265, 0.8563746695794344],\n",
       "  'LGI2 A12': [-1.2948008381369662, 0.19964358759554438],\n",
       "  'SLITRK5': [-0.8451058127202797, 0.4009311180735502],\n",
       "  'THSD7 1': [-0.9896680521272115, 0.3257450613783217],\n",
       "  'THSD7 2': [-0.9334452982230883, 0.35379881322017015]},\n",
       " 'Burst Duration - Avg (s)': {'GPR37L 1': [-0.3144548294709784,\n",
       "   0.7541109560070807],\n",
       "  'GPR37L 2': [1.602947843940759, 0.11344931660510532],\n",
       "  'LGI2 A12': [-0.5539293966194114, 0.5813924199512969],\n",
       "  'SLITRK5': [-0.3810776850103485, 0.7042997621395081],\n",
       "  'THSD7 1': [-1.9338073951954111, 0.057180732900523924],\n",
       "  'THSD7 2': [-1.6696397584810447, 0.09945714233552516]},\n",
       " 'Normalized Duration IQR - Avg': {'GPR37L 1': [0.9626601109548498,\n",
       "   0.3390318844842851],\n",
       "  'GPR37L 2': [1.315237892921521, 0.192722060133604],\n",
       "  'LGI2 A12': [-1.1123858449754802, 0.2697779868574221],\n",
       "  'SLITRK5': [-1.8309850030100212, 0.07135879942277477],\n",
       "  'THSD7 1': [-0.5045741069541805, 0.6154427106746136],\n",
       "  'THSD7 2': [1.6262833371825451, 0.10838327099122436]},\n",
       " 'IBI Coefficient of Variation - Avg': {'GPR37L 1': [-0.2208404245921822,\n",
       "   0.8258595709590579],\n",
       "  'GPR37L 2': [1.7278687905596262, 0.0884213037424934],\n",
       "  'LGI2 A12': [2.8708251729389827, 0.0054114616995392896],\n",
       "  'SLITRK5': [-0.5092989072612307, 0.612144524480355],\n",
       "  'THSD7 1': [2.5124860384196923, 0.01429550988929995],\n",
       "  'THSD7 2': [3.105720377135916, 0.0027404318294445905]},\n",
       " 'Burst Percentage - Avg': {'GPR37L 1': [0.0635628150062585,\n",
       "   0.9494995030536599],\n",
       "  'GPR37L 2': [-0.8703081739925608, 0.387106787834117],\n",
       "  'LGI2 A12': [0.11558643103569965, 0.9083112613258797],\n",
       "  'SLITRK5': [-0.07211700239603103, 0.9427144558119688],\n",
       "  'THSD7 1': [-2.643732373912373, 0.01011252512316285],\n",
       "  'THSD7 2': [0.048100871320105903, 0.961772827964801]},\n",
       " 'Network Burst Frequency (Hz)': {'GPR37L 1': [-0.24834199470041748,\n",
       "   0.8045969279116162],\n",
       "  'GPR37L 2': [0.20920575772369923, 0.8348952501000769],\n",
       "  'LGI2 A12': [-1.1183560674787036, 0.26723827543595136],\n",
       "  'SLITRK5': [-0.200790492472939, 0.8414446664225608],\n",
       "  'THSD7 1': [0.46861055476957186, 0.640804092098239],\n",
       "  'THSD7 2': [-0.7066126859832437, 0.4821527068644076]},\n",
       " 'Network Burst Duration - Avg (sec)': {'GPR37L 1': [-0.9552885497855714,\n",
       "   0.34271927512882217],\n",
       "  'GPR37L 2': [-0.16025732375582583, 0.873139939182106],\n",
       "  'LGI2 A12': [-0.7728401650524087, 0.4422187937896549],\n",
       "  'SLITRK5': [-1.1060577434779826, 0.27248835230241114],\n",
       "  'THSD7 1': [-1.3145623725106128, 0.19294792646593975],\n",
       "  'THSD7 2': [-1.1776038035193404, 0.24294287909618822]},\n",
       " 'Network Burst Percentage': {'GPR37L 1': [0.22496932640373876,\n",
       "   0.8226585850249615],\n",
       "  'GPR37L 2': [-0.8927709669358626, 0.37503877733447577],\n",
       "  'LGI2 A12': [-1.9883063027386567, 0.05068919147086754],\n",
       "  'SLITRK5': [-2.0995479868764186, 0.03937530760019785],\n",
       "  'THSD7 1': [0.41451124280551754, 0.6797672773103187],\n",
       "  'THSD7 2': [-0.7463010498013466, 0.457984696214658]},\n",
       " 'Network IBI Coefficient of Variation': {'GPR37L 1': [1.6274259553933013,\n",
       "   0.1081399856972556],\n",
       "  'GPR37L 2': [2.5884298401960812, 0.011716753005191576],\n",
       "  'LGI2 A12': [3.9513819090362947, 0.00018323383072346342],\n",
       "  'SLITRK5': [0.7311398157359426, 0.4671341689429105],\n",
       "  'THSD7 1': [3.732346155812246, 0.0003825728067174452],\n",
       "  'THSD7 2': [3.653241539019321, 0.0004962109627978778]},\n",
       " 'Network Normalized Duration IQR': {'GPR37L 1': [1.8864197346445806,\n",
       "   0.06338672880430023],\n",
       "  'GPR37L 2': [3.569907521932562, 0.0006503705359914922],\n",
       "  'LGI2 A12': [1.6285346985917062, 0.1079043353255262],\n",
       "  'SLITRK5': [0.4619597911423887, 0.645542709936427],\n",
       "  'THSD7 1': [0.680500958772087, 0.4984320247488099],\n",
       "  'THSD7 2': [1.3571306617240821, 0.17909964150749283]},\n",
       " 'Area Under Normalized Cross-Correlation': {'GPR37L 1': [-0.8002624800826907,\n",
       "   0.4262663676694428],\n",
       "  'GPR37L 2': [-1.6079114653394155, 0.11235607039316613],\n",
       "  'LGI2 A12': [-0.3581113046068453, 0.7213376817612844],\n",
       "  'SLITRK5': [-0.5586298055501564, 0.5781970647833209],\n",
       "  'THSD7 1': [-2.787226116025552, 0.006838020866455042],\n",
       "  'THSD7 2': [-1.033833329568929, 0.3047726429259672]},\n",
       " 'Resistance - Avg (kOhms)': {'GPR37L 1': [-1.1796950910862438,\n",
       "   0.24211526887412463],\n",
       "  'GPR37L 2': [-0.5003991882996488, 0.6183636700749003],\n",
       "  'LGI2 A12': [0.8780053743377194, 0.38294451945071484],\n",
       "  'SLITRK5': [-3.68045681971068, 0.0004539003756398324],\n",
       "  'THSD7 1': [-1.7269958597337003, 0.08857897865690784],\n",
       "  'THSD7 2': [-5.181150512218703, 2.031172795773034e-06]},\n",
       " 'Number of Covered Electrodes': {'GPR37L 1': [0.5829286622243892,\n",
       "   0.5618145931120226],\n",
       "  'GPR37L 2': [-0.47215456823558427, 0.6382850884928069],\n",
       "  'LGI2 A12': [0.5829286622243892, 0.5618145931120226],\n",
       "  'SLITRK5': [-0.8451542547285136, 0.4009042586673903],\n",
       "  'THSD7 1': [0.5829286622243893, 0.5618145931120226],\n",
       "  'THSD7 2': [-3.1083712505082004, 0.0027189564193623077]}}"
      ]
     },
     "execution_count": 77,
     "metadata": {},
     "output_type": "execute_result"
    }
   ],
   "source": [
    "dmapped_ttest['basal']"
   ]
  },
  {
   "cell_type": "code",
   "execution_count": 63,
   "metadata": {},
   "outputs": [],
   "source": [
    "def ensure_dirs_exists(path):\n",
    "    directory = os.path.dirname(path)  # Get the directory part of the file path\n",
    "    if not os.path.exists(directory):\n",
    "        os.makedirs(directory)\n",
    "    return"
   ]
  },
  {
   "cell_type": "code",
   "execution_count": 67,
   "metadata": {},
   "outputs": [
    {
     "data": {
      "text/plain": [
       "'LSL-Cas9-PVcre_5thbatch'"
      ]
     },
     "execution_count": 67,
     "metadata": {},
     "output_type": "execute_result"
    }
   ],
   "source": [
    "FOLDER_PATH.split(\"/\")[-1]"
   ]
  },
  {
   "cell_type": "code",
   "execution_count": 78,
   "metadata": {},
   "outputs": [],
   "source": [
    "# exp1.iloc[62:79]\n",
    "def analyze_test_results(experiment_res, outfile):\n",
    "    col_names = ['Test Types', 'Gene', 'T-statistic', 'Regulation', 'P-value', 'Significance', 'Warnings']\n",
    "    df = pd.DataFrame(columns = col_names)\n",
    "\n",
    "    ensure_dirs_exists(outfile)\n",
    "    for test in (experiment_res.keys()):\n",
    "        for prot in experiment_res[test].keys():\n",
    "            new_row = {}\n",
    "            new_row['Test Types'] = test\n",
    "            new_row['Gene'] = prot\n",
    "            t_stat = experiment_res[test][prot][0]\n",
    "            new_row['T-statistic'] = t_stat\n",
    "            if t_stat < 0:\n",
    "                new_row['Regulation'] = \"Down-Regulated\"\n",
    "            elif t_stat > 0:\n",
    "                new_row['Regulation'] = \"Up-Regulated\"\n",
    "            else:\n",
    "                new_row['Regulation'] = \"Same/NA\"\n",
    "            \n",
    "            pval = experiment_res[test][prot][1]\n",
    "            new_row['P-value'] = pval\n",
    "            if pval <= 0.05:\n",
    "                new_row['Significance'] = \"Significant diff between gene and control\"\n",
    "            else:\n",
    "                new_row['Significance'] = \"Not Significant\"\n",
    "            if len(experiment_res[test][prot]) > 2:\n",
    "                new_row['Warnings'] = experiment_res[test][prot][2]\n",
    "            else:\n",
    "                new_row['Warnings'] = \"No Warning\"\n",
    "\n",
    "            df = pd.concat([df, pd.DataFrame([new_row])], ignore_index=True)\n",
    "    ensure_dirs_exists(outfile)\n",
    "    df.to_csv(outfile)\n",
    "    return df\n",
    "\n",
    "for condition, testdict in dmapped_ttest.items():\n",
    "    test_results = analyze_test_results(testdict, \n",
    "                                        f'{parent}/t-tests_results/{FOLDER_PATH.split(\"/\")[-2]}/{FOLDER_PATH.split(\"/\")[-1]}/'\n",
    "                                            f'{condition}_ttest_results.csv')\n",
    "    test_results"
   ]
  },
  {
   "cell_type": "code",
   "execution_count": null,
   "metadata": {},
   "outputs": [],
   "source": []
  },
  {
   "cell_type": "code",
   "execution_count": 89,
   "metadata": {},
   "outputs": [
    {
     "name": "stderr",
     "output_type": "stream",
     "text": [
      "/home/poojaparameswaran/anaconda3/envs/dataenv/lib/python3.11/site-packages/xlsxwriter/workbook.py:339: UserWarning: Calling close() on already closed file.\n",
      "  warn(\"Calling close() on already closed file.\")\n"
     ]
    },
    {
     "data": {
      "text/plain": [
       "'File Created'"
      ]
     },
     "execution_count": 89,
     "metadata": {},
     "output_type": "execute_result"
    }
   ],
   "source": [
    "def save_all_to_excel(data, outfile):\n",
    "    ensure_dirs_exists(outfile)\n",
    "    with pd.ExcelWriter(outfile, engine='xlsxwriter') as writer:\n",
    "        for condition, testdict in data.items():\n",
    "            # Flatten the data structure\n",
    "            flat_data = {}\n",
    "            for test, values in testdict.items():\n",
    "                index = values.keys()\n",
    "                flat_data[(test, 't-stat')] = [v[0] for v in values.values()]\n",
    "                flat_data[(test, 'p-value')] = [v[1] for v in values.values()]\n",
    "\n",
    "            # Create DataFrame with MultiIndex columns\n",
    "            df = pd.DataFrame(flat_data, index =index)            \n",
    "            df.columns = pd.MultiIndex.from_tuples(df.columns)\n",
    "\n",
    "            df.to_excel(writer, sheet_name=condition)\n",
    "    writer.close()\n",
    "    if os.path.exists(outfile):\n",
    "        return f\"Outfile created {outfile}\"\n",
    "    else:\n",
    "        return f\"Problem in writing conditions to {outfile}\"\n",
    "\n",
    "save_all_to_excel(dmapped_ttest,f'{parent}/t-test_results/{FOLDER_PATH.split(\"/\")[-2]}/{FOLDER_PATH.split(\"/\")[-1]}/'\n",
    "                                            f'{condition}_ttest_results.csv')\n"
   ]
  },
  {
   "cell_type": "code",
   "execution_count": 90,
   "metadata": {},
   "outputs": [
    {
     "data": {
      "text/plain": [
       "'File Created'"
      ]
     },
     "execution_count": 90,
     "metadata": {},
     "output_type": "execute_result"
    }
   ],
   "source": [
    "\n",
    "def save_all_to_excel(dataframes, outfile):\n",
    "    # Convert single dataframe to a list of one dataframe for consistency\n",
    "    if isinstance(dataframes, pd.DataFrame):\n",
    "        dataframes = [dataframes]\n",
    "        sheet_names = ['experiment 1']\n",
    "    else:\n",
    "        sheet_names = ['experiment {}'.format(i+1) for i in range(len(dataframes))]\n",
    "\n",
    "    directory = os.path.dirname(outfile)\n",
    "    if not os.path.exists(directory):\n",
    "        os.makedirs(directory)\n",
    "    writer = pd.ExcelWriter(outfile, engine='xlsxwriter')\n",
    "\n",
    "    for df, sheetname in zip(dataframes, sheet_names):\n",
    "        df.to_excel(writer, sheet_name=sheetname)\n",
    "    \n",
    "    writer.close()\n",
    "    if os.path.exists(outfile):\n",
    "        return f\"Outfile created {outfile}\"\n",
    "    else:\n",
    "        return \"Problem in experiments to excel file\"\n",
    "\n",
    "save_all_to_excel(test_results, \n",
    "                  f'{parent}/t-test_results/{FOLDER_PATH.split(\"/\")[-2]}/{FOLDER_PATH.split(\"/\")[-1]}/'\n",
    "                                            f'ttest_results.xlsx')"
   ]
  },
  {
   "cell_type": "code",
   "execution_count": null,
   "metadata": {},
   "outputs": [],
   "source": []
  }
 ],
 "metadata": {
  "kernelspec": {
   "display_name": "dataenv",
   "language": "python",
   "name": "python3"
  },
  "language_info": {
   "codemirror_mode": {
    "name": "ipython",
    "version": 3
   },
   "file_extension": ".py",
   "mimetype": "text/x-python",
   "name": "python",
   "nbconvert_exporter": "python",
   "pygments_lexer": "ipython3",
   "version": "3.11.4"
  }
 },
 "nbformat": 4,
 "nbformat_minor": 4
}
