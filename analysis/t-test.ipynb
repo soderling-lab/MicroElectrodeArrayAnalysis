{
 "cells": [
  {
   "cell_type": "code",
   "execution_count": 1,
   "metadata": {
    "is_executing": true
   },
   "outputs": [
    {
     "name": "stdout",
     "output_type": "stream",
     "text": [
      "Requirement already satisfied: xlsxwriter in /home/poojaparameswaran/anaconda3/envs/dataenv/lib/python3.11/site-packages (3.1.2)\n"
     ]
    }
   ],
   "source": [
    "import pandas as pd\n",
    "import numpy as np\n",
    "from tqdm import tqdm\n",
    "import os\n",
    "from scipy import stats\n",
    "import warnings\n",
    "import pandas as pd\n",
    "from sklearn.experimental import enable_iterative_imputer\n",
    "from sklearn.impute import IterativeImputer\n",
    "import matplotlib.pyplot as plt\n",
    "import seaborn as sns\n",
    "import re\n",
    "import glob\n",
    "!pip install xlsxwriter\n",
    "pd.options.mode.chained_assignment = None  # default='warn'"
   ]
  },
  {
   "cell_type": "code",
   "execution_count": 2,
   "metadata": {},
   "outputs": [],
   "source": [
    "def custom_sort(item):\n",
    "    if item.endswith('basal'):\n",
    "        return 0\n",
    "    else:\n",
    "        return int(item.split('uM')[0].split('_')[-1])"
   ]
  },
  {
   "cell_type": "code",
   "execution_count": 6,
   "metadata": {},
   "outputs": [
    {
     "name": "stdout",
     "output_type": "stream",
     "text": [
      "Balances: {'basal': 'basal', 'dose1': '5uMCNO', 'dose2': '10uMCNO', 'dose3': '15uMCNO', 'dose4': '20uMCNO'}\n"
     ]
    },
    {
     "data": {
      "text/plain": [
       "{'Div19_5uMCNO': '/home/poojaparameswaran/Documents/SoderlingLab/MultipleElectrodeAnalysisANOVA/example_data/Div19_CNO/Div19_1minute/Div19_5uMCNO',\n",
       " 'Div19_10uMCNO': '/home/poojaparameswaran/Documents/SoderlingLab/MultipleElectrodeAnalysisANOVA/example_data/Div19_CNO/Div19_1minute/Div19_10uMCNO',\n",
       " 'Div19_basal': '/home/poojaparameswaran/Documents/SoderlingLab/MultipleElectrodeAnalysisANOVA/example_data/Div19_CNO/Div19_1minute/Div19_basal',\n",
       " 'Div19_20uMCNO': '/home/poojaparameswaran/Documents/SoderlingLab/MultipleElectrodeAnalysisANOVA/example_data/Div19_CNO/Div19_1minute/Div19_20uMCNO',\n",
       " 'Div19_15uMCNO': '/home/poojaparameswaran/Documents/SoderlingLab/MultipleElectrodeAnalysisANOVA/example_data/Div19_CNO/Div19_1minute/Div19_15uMCNO'}"
      ]
     },
     "execution_count": 6,
     "metadata": {},
     "output_type": "execute_result"
    }
   ],
   "source": [
    "currdir= os.getcwd()\n",
    "parent = os.path.dirname(currdir)\n",
    "gparent=os.path.dirname(parent)\n",
    "lines_to_skip = 10 # adjust\n",
    "\n",
    "# count the number of header lines\n",
    "header_lines = 3 # adjust\n",
    "EXPERIMENT_TIME = \"1_MIN\"\n",
    "plate_type = 'DIV19'\n",
    "\n",
    "PERTURBATION = \"CNO\"\n",
    "firstTableHeading = \"Number of Spikes\"\n",
    "\n",
    "FOLDER_PATH = f\"{parent}/example_data/Div19_CNO/Div19_1minute\" #\n",
    "folder_dict = {}\n",
    "balances= {\"basal\": \"\",\n",
    "        \"dose1\": \"\",\n",
    "        \"dose2\": \"\",\n",
    "        \"dose3\": \"\",\n",
    "        \"dose4\": \"\"\n",
    "        }\n",
    "## WALK Through folder of interest\n",
    "for dirpath, dirnames, filenames in os.walk(FOLDER_PATH):\n",
    "    if dirpath != FOLDER_PATH:\n",
    "        folder_dict[dirpath.split(\"/\")[-1]] = dirpath\n",
    "    elif not dirnames:\n",
    "        folder_dict['basal'] = dirpath\n",
    "\n",
    "## get doses names in increasing order \n",
    "dose_names = [name for name in folder_dict.keys() if 'basal' not in name]\n",
    "dose_names.sort(key=custom_sort)\n",
    "\n",
    "# Initialize doses dictionaryd\n",
    "balances = {\"basal\": \"basal\"}\n",
    "\n",
    "## map sorted doses\n",
    "for i, dose_name in enumerate(dose_names, start=1):\n",
    "    balances[f\"dose{i}\"] = dose_name.split(\"_\")[-1]\n",
    "\n",
    "# Output the updated doses dictionary\n",
    "print(\"Balances:\", balances)\n",
    "folder_dict"
   ]
  },
  {
   "cell_type": "code",
   "execution_count": 7,
   "metadata": {},
   "outputs": [
    {
     "name": "stdout",
     "output_type": "stream",
     "text": [
      "Div19_5uMCNO dict_keys(['plate_1', 'plate_3'])\n",
      "Div19_10uMCNO dict_keys(['plate_1', 'plate_3'])\n",
      "Div19_basal dict_keys(['plate_1', 'plate_3'])\n",
      "Div19_20uMCNO dict_keys(['plate_3', 'plate_1'])\n",
      "Div19_15uMCNO dict_keys(['plate_3', 'plate_1'])\n"
     ]
    }
   ],
   "source": [
    "def read_csvs_to_dict(folder, lines_to_skip=10):\n",
    "    files = glob.glob(os.path.join(folder, \"*.csv\"))\n",
    "    data_dict = {}\n",
    "    for file in files:\n",
    "        # Extracting the plate number from the filename\n",
    "        plate_num = re.search(r'plate\\s?(\\d+)', file, re.IGNORECASE)\n",
    "        if plate_num:\n",
    "            plate_key = f\"plate_{plate_num.group(1)}\"\n",
    "            df = pd.read_csv(file, skiprows = lines_to_skip)\n",
    "            df = df.drop(columns=['Unnamed: 9'])\n",
    "            data_dict[plate_key] = df\n",
    "    return data_dict\n",
    "all_files_dict = {}\n",
    "\n",
    "for dose, folder in folder_dict.items():\n",
    "    all_files_dict[dose] = read_csvs_to_dict(folder)\n",
    "    \n",
    "for dose, files_dict in all_files_dict.items():\n",
    "    print(dose, files_dict.keys())"
   ]
  },
  {
   "cell_type": "code",
   "execution_count": 8,
   "metadata": {},
   "outputs": [
    {
     "data": {
      "text/plain": [
       "{'basal': 'basal',\n",
       " 'dose1': '5uMCNO',\n",
       " 'dose2': '10uMCNO',\n",
       " 'dose3': '15uMCNO',\n",
       " 'dose4': '20uMCNO'}"
      ]
     },
     "execution_count": 8,
     "metadata": {},
     "output_type": "execute_result"
    }
   ],
   "source": [
    "balances"
   ]
  },
  {
   "cell_type": "code",
   "execution_count": 9,
   "metadata": {},
   "outputs": [
    {
     "data": {
      "text/plain": [
       "dict_keys(['Div19_5uMCNO', 'Div19_10uMCNO', 'Div19_basal', 'Div19_20uMCNO', 'Div19_15uMCNO'])"
      ]
     },
     "execution_count": 9,
     "metadata": {},
     "output_type": "execute_result"
    }
   ],
   "source": [
    "def concat_plates(plates_dict, firstHeading):\n",
    "    experiment = {}\n",
    "    testparams_concat = {}\n",
    "    for plate, df in plates_dict.items():\n",
    "        maxrows = df.shape[0]\n",
    "        vals_between_tables = 16\n",
    "        titles = [heading_ind for heading_ind in range(14, maxrows+16, 16)]\n",
    "        titles.insert(0,0)\n",
    "        # # Empty dictionary to store dataframes\n",
    "        # Loop through start indices\n",
    "        for ind in range(len(titles) -1):\n",
    "            if ind == 0:\n",
    "                ## Handle mean firing rate\n",
    "                key = firstHeading\n",
    "                table = df.iloc[titles[ind] : titles[ind +1], :]\n",
    "                # table = rename_row_names(table)\n",
    "            elif ind != 0:\n",
    "                table = df.iloc[titles[ind] : titles[ind +1], :]\n",
    "                key = table.iloc[0][0] # just get name\n",
    "                table = df.iloc[titles[ind] +2: titles[ind +1], :]\n",
    "\n",
    "            table.set_index('Unnamed: 0', inplace=True)\n",
    "            if key not in experiment:\n",
    "                experiment[key] = []\n",
    "            experiment[key].append(table)\n",
    "    \n",
    "    for testparam, df_list in experiment.items():\n",
    "        concated_table = pd.concat(df_list, ignore_index=False)\n",
    "        testparams_concat[testparam] = concated_table\n",
    "    \n",
    "    testparams_concat = {key.strip(): value for key, value in testparams_concat.items()}\n",
    "    return testparams_concat\n",
    "doses = {}\n",
    "for dose, plates in all_files_dict.items():\n",
    "    doses[dose] = concat_plates(plates, firstTableHeading)\n",
    "\n",
    "doses.keys()"
   ]
  },
  {
   "cell_type": "code",
   "execution_count": 10,
   "metadata": {},
   "outputs": [],
   "source": [
    "def remove_mean_SEM(test_dict, chemical_type):\n",
    "    for key, value in test_dict.items():\n",
    "        to_drop = [index for index in ['B Mean', 'B SEM'] if index in value.index]\n",
    "        if to_drop:\n",
    "            test_dict[key] = value.drop(index=to_drop)\n",
    "        test_dict[key]['Chemical_Type']=chemical_type\n",
    "    return test_dict\n",
    "for dose, parameter_dict in doses.items():\n",
    "    doses[dose] = remove_mean_SEM(parameter_dict, dose)\n"
   ]
  },
  {
   "cell_type": "code",
   "execution_count": 11,
   "metadata": {},
   "outputs": [],
   "source": [
    "def rename_row_names(experiment_df):\n",
    "    # 'Unnamed: 0' is a column\n",
    "    experiment_df = experiment_df.reset_index()\n",
    "    experiment_df = experiment_df.drop(columns=\"Unnamed: 0\", errors=\"ignore\")\n",
    "    experiment_df.index = [\"Replicate{}\".format(i+1) for i in range(len(experiment_df))]\n",
    "    return experiment_df\n",
    "for dose, test_dict in doses.items():\n",
    "    for test_name, df in test_dict.items():\n",
    "        test_dict[test_name] = rename_row_names(df)\n",
    "    doses[dose] = test_dict"
   ]
  },
  {
   "cell_type": "code",
   "execution_count": 13,
   "metadata": {},
   "outputs": [
    {
     "data": {
      "text/plain": [
       "dict_keys(['Div19_5uMCNO', 'Div19_10uMCNO', 'Div19_basal', 'Div19_20uMCNO', 'Div19_15uMCNO'])"
      ]
     },
     "execution_count": 13,
     "metadata": {},
     "output_type": "execute_result"
    }
   ],
   "source": [
    "doses.keys()"
   ]
  },
  {
   "cell_type": "code",
   "execution_count": 14,
   "metadata": {},
   "outputs": [
    {
     "data": {
      "text/plain": [
       "(dict_keys(['basal', 'dose1', 'dose2', 'dose3', 'dose4']),\n",
       " dict_values(['basal', '5uMCNO', '10uMCNO', '15uMCNO', '20uMCNO']),\n",
       " dict_keys(['Div19_5uMCNO', 'Div19_10uMCNO', 'Div19_basal', 'Div19_20uMCNO', 'Div19_15uMCNO']))"
      ]
     },
     "execution_count": 14,
     "metadata": {},
     "output_type": "execute_result"
    }
   ],
   "source": [
    "balances.keys(), balances.values(), doses.keys()"
   ]
  },
  {
   "cell_type": "code",
   "execution_count": 15,
   "metadata": {},
   "outputs": [
    {
     "data": {
      "text/plain": [
       "[array(['Div19_basal'], dtype=object),\n",
       " array(['Div19_5uMCNO'], dtype=object),\n",
       " array(['Div19_10uMCNO'], dtype=object),\n",
       " array(['Div19_15uMCNO'], dtype=object),\n",
       " array(['Div19_20uMCNO'], dtype=object)]"
      ]
     },
     "execution_count": 15,
     "metadata": {},
     "output_type": "execute_result"
    }
   ],
   "source": [
    "dmapped = {}\n",
    "for bkey, bval in balances.items():\n",
    "    for dkey, dval in doses.items():\n",
    "        if bval == dkey.split(\"_\")[-1]:\n",
    "            dmapped[bkey] = dval\n",
    "\n",
    "list(map(lambda x: dmapped[x]['Mean Firing Rate (Hz)']['Chemical_Type'].unique(), dmapped.keys()))"
   ]
  },
  {
   "cell_type": "code",
   "execution_count": 16,
   "metadata": {},
   "outputs": [
    {
     "name": "stdout",
     "output_type": "stream",
     "text": [
      "basal\n",
      "dose1\n",
      "dose2\n",
      "dose3\n",
      "dose4\n"
     ]
    }
   ],
   "source": [
    "for dose, tdict in dmapped.items():\n",
    "    print(dose)"
   ]
  },
  {
   "cell_type": "code",
   "execution_count": 17,
   "metadata": {},
   "outputs": [
    {
     "name": "stderr",
     "output_type": "stream",
     "text": [
      "/home/poojaparameswaran/anaconda3/envs/dataenv/lib/python3.11/site-packages/sklearn/impute/_iterative.py:785: ConvergenceWarning: [IterativeImputer] Early stopping criterion not reached.\n",
      "  warnings.warn(\n",
      "/home/poojaparameswaran/anaconda3/envs/dataenv/lib/python3.11/site-packages/sklearn/impute/_iterative.py:785: ConvergenceWarning: [IterativeImputer] Early stopping criterion not reached.\n",
      "  warnings.warn(\n",
      "/home/poojaparameswaran/anaconda3/envs/dataenv/lib/python3.11/site-packages/sklearn/impute/_iterative.py:785: ConvergenceWarning: [IterativeImputer] Early stopping criterion not reached.\n",
      "  warnings.warn(\n"
     ]
    }
   ],
   "source": [
    "def impute_nans(testparam, table):\n",
    "    chem_types = table['Chemical_Type']\n",
    "    table = table.drop(columns=['Chemical_Type'])\n",
    "    original_index = table.index\n",
    "    imputer = IterativeImputer(max_iter=100, random_state=0)\n",
    "    imputed_data = imputer.fit_transform(table)\n",
    "\n",
    "    # Convert the imputed data back to a DataFrame\n",
    "    imputed_df = pd.DataFrame(imputed_data, columns=table.columns, index=original_index)\n",
    "    imputed_df['Chemical_Type'] = chem_types\n",
    "    return imputed_df\n",
    "dmappedI = {}\n",
    "for dose, tdict in dmapped.items():\n",
    "    dmappedI[dose] = {testname: impute_nans(testname, table) for testname, table in tdict.items() if not table.loc[:, table.columns != 'Chemical_Type'].isna().all().all()} \n"
   ]
  },
  {
   "cell_type": "code",
   "execution_count": 20,
   "metadata": {},
   "outputs": [
    {
     "data": {
      "text/plain": [
       "dict_keys(['basal', 'dose1', 'dose2', 'dose3', 'dose4'])"
      ]
     },
     "execution_count": 20,
     "metadata": {},
     "output_type": "execute_result"
    }
   ],
   "source": [
    "def perform_t_test(condition_dict):\n",
    "    tests = {}\n",
    "    for testname in condition_dict.keys():\n",
    "        tests[testname] = {}\n",
    "        table = condition_dict[testname].copy()  # Create a deep copy\n",
    "        rows_to_drop = [row for row in ['B Mean', 'B SEM', 'B Std'] if any(row.lower() == existing_row.lower() for existing_row in table.index)]\n",
    "        if rows_to_drop:\n",
    "            table.drop(rows_to_drop, axis=0, inplace=True)\n",
    "        test_variables = [col for col in table.columns if \"unt\" not in col.lower() and \"chemical\" not in col.lower()]\n",
    "        control_name = \"unt2\"\n",
    "        for testitem in test_variables:\n",
    "            exp_group = list(table[testitem].astype(float))\n",
    "            control_group = list(table[control_name].astype(float))\n",
    "            with warnings.catch_warnings(record=True) as w:\n",
    "                warnings.simplefilter(\"always\")  # Cause all warnings to always be triggered\n",
    "                t_stat, pval = stats.ttest_ind(exp_group, control_group)\n",
    "                if len(w) > 0:\n",
    "                    tests[testname][testitem] = [t_stat, pval, 'Warning: ' + str(w[-1].message)]\n",
    "                else:\n",
    "                    tests[testname][testitem] = [t_stat, pval]\n",
    "    return tests\n",
    "\n",
    "dmapped_ttest = {}\n",
    "for key, testdict in dmappedI.items():\n",
    "    dmapped_ttest[key] = perform_t_test(testdict)\n",
    "dmapped_ttest.keys()"
   ]
  },
  {
   "cell_type": "code",
   "execution_count": 36,
   "metadata": {},
   "outputs": [
    {
     "data": {
      "text/plain": [
       "{'basal': 'basal',\n",
       " 'dose1': '5uMCNO',\n",
       " 'dose2': '10uMCNO',\n",
       " 'dose3': '15uMCNO',\n",
       " 'dose4': '20uMCNO'}"
      ]
     },
     "execution_count": 36,
     "metadata": {},
     "output_type": "execute_result"
    }
   ],
   "source": [
    "balances"
   ]
  },
  {
   "cell_type": "code",
   "execution_count": 21,
   "metadata": {},
   "outputs": [],
   "source": [
    "def ensure_dirs_exists(path):\n",
    "    directory = os.path.dirname(path)  # Get the directory part of the file path\n",
    "    if not os.path.exists(directory):\n",
    "        os.makedirs(directory)\n",
    "    return"
   ]
  },
  {
   "cell_type": "code",
   "execution_count": 22,
   "metadata": {},
   "outputs": [
    {
     "data": {
      "text/plain": [
       "'Div19_1minute'"
      ]
     },
     "execution_count": 22,
     "metadata": {},
     "output_type": "execute_result"
    }
   ],
   "source": [
    "FOLDER_PATH.split(\"/\")[-1]"
   ]
  },
  {
   "cell_type": "code",
   "execution_count": 38,
   "metadata": {},
   "outputs": [
    {
     "name": "stdout",
     "output_type": "stream",
     "text": [
      "written to /home/poojaparameswaran/Documents/SoderlingLab/MultipleElectrodeAnalysisANOVA/t-test_results/Div19_CNO/Div19_1minute/basal_ttest_results.csv\n",
      "written to /home/poojaparameswaran/Documents/SoderlingLab/MultipleElectrodeAnalysisANOVA/t-test_results/Div19_CNO/Div19_1minute/5uMCNO_ttest_results.csv\n",
      "written to /home/poojaparameswaran/Documents/SoderlingLab/MultipleElectrodeAnalysisANOVA/t-test_results/Div19_CNO/Div19_1minute/10uMCNO_ttest_results.csv\n",
      "written to /home/poojaparameswaran/Documents/SoderlingLab/MultipleElectrodeAnalysisANOVA/t-test_results/Div19_CNO/Div19_1minute/15uMCNO_ttest_results.csv\n",
      "written to /home/poojaparameswaran/Documents/SoderlingLab/MultipleElectrodeAnalysisANOVA/t-test_results/Div19_CNO/Div19_1minute/20uMCNO_ttest_results.csv\n"
     ]
    }
   ],
   "source": [
    "# exp1.iloc[62:79]\n",
    "def analyze_test_results(experiment_res, outfile):\n",
    "    col_names = ['Test Types', 'Gene', 'T-statistic', 'Regulation', 'P-value', 'Significance', 'Warnings']\n",
    "    df = pd.DataFrame(columns = col_names)\n",
    "\n",
    "    ensure_dirs_exists(outfile)\n",
    "    for test in (experiment_res.keys()):\n",
    "        for prot in experiment_res[test].keys():\n",
    "            new_row = {}\n",
    "            new_row['Test Types'] = test\n",
    "            new_row['Gene'] = prot\n",
    "            t_stat = experiment_res[test][prot][0]\n",
    "            new_row['T-statistic'] = t_stat\n",
    "            if t_stat < 0:\n",
    "                new_row['Regulation'] = \"Down-Regulated\"\n",
    "            elif t_stat > 0:\n",
    "                new_row['Regulation'] = \"Up-Regulated\"\n",
    "            else:\n",
    "                new_row['Regulation'] = \"Same/NA\"\n",
    "            \n",
    "            pval = experiment_res[test][prot][1]\n",
    "            new_row['P-value'] = pval\n",
    "            if pval <= 0.05:\n",
    "                new_row['Significance'] = \"Significant diff between gene and control\"\n",
    "            else:\n",
    "                new_row['Significance'] = \"Not Significant\"\n",
    "            if len(experiment_res[test][prot]) > 2:\n",
    "                new_row['Warnings'] = experiment_res[test][prot][2]\n",
    "            else:\n",
    "                new_row['Warnings'] = \"No Warning\"\n",
    "\n",
    "            df = pd.concat([df, pd.DataFrame([new_row])], ignore_index=True)\n",
    "    ensure_dirs_exists(outfile)\n",
    "    df.to_csv(outfile)\n",
    "    print(f\"written to {outfile}\")\n",
    "    return df\n",
    "\n",
    "for condition, testdict in dmapped_ttest.items():\n",
    "    test_results = analyze_test_results(testdict, \n",
    "                                        f'{parent}/t-test_results/{FOLDER_PATH.split(\"/\")[-2]}/{FOLDER_PATH.split(\"/\")[-1]}/'\n",
    "                                            f'{balances[condition]}_ttest_results.csv')\n",
    "    test_results"
   ]
  },
  {
   "cell_type": "code",
   "execution_count": 33,
   "metadata": {},
   "outputs": [
    {
     "data": {
      "text/plain": [
       "dict_keys(['basal', 'dose1', 'dose2', 'dose3', 'dose4'])"
      ]
     },
     "execution_count": 33,
     "metadata": {},
     "output_type": "execute_result"
    }
   ],
   "source": [
    "dmapped_ttest.keys()"
   ]
  },
  {
   "cell_type": "code",
   "execution_count": 40,
   "metadata": {},
   "outputs": [
    {
     "name": "stderr",
     "output_type": "stream",
     "text": [
      "/home/poojaparameswaran/anaconda3/envs/dataenv/lib/python3.11/site-packages/xlsxwriter/workbook.py:339: UserWarning: Calling close() on already closed file.\n",
      "  warn(\"Calling close() on already closed file.\")\n"
     ]
    },
    {
     "data": {
      "text/plain": [
       "'Outfile created /home/poojaparameswaran/Documents/SoderlingLab/MultipleElectrodeAnalysisANOVA/t-test_results/Div19_CNO/Div19_1minute/ttest_results_CNO1minute.xlsx'"
      ]
     },
     "execution_count": 40,
     "metadata": {},
     "output_type": "execute_result"
    }
   ],
   "source": [
    "def save_all_to_excel(data, outfile):\n",
    "    ensure_dirs_exists(outfile)\n",
    "    with pd.ExcelWriter(outfile, engine='xlsxwriter') as writer:\n",
    "        for condition, testdict in data.items():\n",
    "            # Flatten the data structure\n",
    "            flat_data = {}\n",
    "            for test, values in testdict.items():\n",
    "                index = values.keys()\n",
    "                flat_data[(test, 't-stat')] = [v[0] for v in values.values()]\n",
    "                flat_data[(test, 'p-value')] = [v[1] for v in values.values()]\n",
    "\n",
    "            # Create DataFrame with MultiIndex columns\n",
    "            df = pd.DataFrame(flat_data, index =index)            \n",
    "            df.columns = pd.MultiIndex.from_tuples(df.columns)\n",
    "\n",
    "            df.to_excel(writer, sheet_name=balances[condition])\n",
    "    writer.close()\n",
    "    if os.path.exists(outfile):\n",
    "        return f\"Outfile created {outfile}\"\n",
    "    else:\n",
    "        return f\"Problem in writing conditions to {outfile}\"\n",
    "\n",
    "save_all_to_excel(dmapped_ttest,f'{parent}/t-test_results/{FOLDER_PATH.split(\"/\")[-2]}/{FOLDER_PATH.split(\"/\")[-1]}/'\n",
    "                                            f'ttest_results_{FOLDER_PATH.split(\"/\")[-2].split(\"_\")[-1]}{FOLDER_PATH.split(\"/\")[-1].split(\"_\")[-1]}.xlsx')\n"
   ]
  },
  {
   "cell_type": "code",
   "execution_count": null,
   "metadata": {},
   "outputs": [],
   "source": []
  }
 ],
 "metadata": {
  "kernelspec": {
   "display_name": "dataenv",
   "language": "python",
   "name": "python3"
  },
  "language_info": {
   "codemirror_mode": {
    "name": "ipython",
    "version": 3
   },
   "file_extension": ".py",
   "mimetype": "text/x-python",
   "name": "python",
   "nbconvert_exporter": "python",
   "pygments_lexer": "ipython3",
   "version": "3.11.4"
  }
 },
 "nbformat": 4,
 "nbformat_minor": 4
}
